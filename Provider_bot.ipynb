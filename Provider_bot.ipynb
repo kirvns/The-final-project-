{
  "nbformat": 4,
  "nbformat_minor": 0,
  "metadata": {
    "colab": {
      "name": "Provider_bot_learning.ipynb",
      "provenance": [],
      "collapsed_sections": []
    },
    "kernelspec": {
      "name": "python3",
      "display_name": "Python 3"
    },
    "language_info": {
      "name": "python"
    }
  },
  "cells": [
    {
      "cell_type": "markdown",
      "source": [
        "**Устанавливаем библиотеки**"
      ],
      "metadata": {
        "id": "sXDOYBwplgaf"
      }
    },
    {
      "cell_type": "code",
      "execution_count": null,
      "metadata": {
        "id": "4nqLgwTvpvHK"
      },
      "outputs": [],
      "source": [
        "!pip install transformers \n",
        "!pip install deeppavlov \n",
        "!pip install df_engine"
      ]
    },
    {
      "cell_type": "code",
      "source": [
        "!pip install torch"
      ],
      "metadata": {
        "id": "GHSjzV7_6bwP"
      },
      "execution_count": null,
      "outputs": []
    },
    {
      "cell_type": "code",
      "source": [
        "!pip uninstall scikit-learn -y\n",
        "!pip install -U scikit-learn"
      ],
      "metadata": {
        "id": "y6Ey3U3mqLEq"
      },
      "execution_count": null,
      "outputs": []
    },
    {
      "cell_type": "code",
      "source": [
        "import deeppavlov\n",
        "import torch\n",
        "import transformers\n",
        "import json\n",
        "import string\n",
        "import numpy as np\n",
        "import pandas as pd \n",
        "import sklearn\n",
        "import matplotlib.pyplot as plt\n",
        "from sklearn.linear_model import LogisticRegression\n",
        "from sklearn.model_selection import train_test_split\n",
        "from sklearn.model_selection import cross_val_score\n",
        "from sklearn.tree import DecisionTreeClassifier\n",
        "from sklearn.svm import LinearSVC\n",
        "from sklearn.svm import SVC\n",
        "from sklearn.multioutput import MultiOutputClassifier\n",
        "from sklearn.ensemble import RandomForestClassifier\n",
        "from sklearn.ensemble import GradientBoostingClassifier\n",
        "from sklearn.model_selection import GridSearchCV\n",
        "from sklearn.preprocessing import MinMaxScaler\n",
        "from sklearn.metrics import accuracy_score, roc_auc_score, classification_report\n",
        "from transformers import BertTokenizer, BertModel\n",
        "from deeppavlov.core.common.file import read_json\n",
        "from deeppavlov import build_model, configs\n",
        "import warnings\n",
        "warnings.filterwarnings('ignore')"
      ],
      "metadata": {
        "id": "w_03iVEc6m2x"
      },
      "execution_count": null,
      "outputs": []
    },
    {
      "cell_type": "code",
      "source": [
        "sklearn.__version__"
      ],
      "metadata": {
        "colab": {
          "base_uri": "https://localhost:8080/",
          "height": 36
        },
        "id": "5D3q1Ci8qq_4",
        "outputId": "a90b9a23-ff42-4915-d52b-05e511d8bd14"
      },
      "execution_count": null,
      "outputs": [
        {
          "output_type": "execute_result",
          "data": {
            "text/plain": [
              "'1.0.2'"
            ],
            "application/vnd.google.colaboratory.intrinsic+json": {
              "type": "string"
            }
          },
          "metadata": {},
          "execution_count": 5
        }
      ]
    },
    {
      "cell_type": "markdown",
      "source": [
        "**Готовим данные для обучения**"
      ],
      "metadata": {
        "id": "L0blqDLVvqsM"
      }
    },
    {
      "cell_type": "code",
      "source": [
        "with open('intents_paraphrase_expand.json', 'r') as file:\n",
        "    data_str = file.read()\n",
        "    \n",
        "data_dict = json.loads(data_str)    "
      ],
      "metadata": {
        "id": "wNGes2g0oYr1"
      },
      "execution_count": null,
      "outputs": []
    },
    {
      "cell_type": "code",
      "source": [
        "phrases = []\n",
        "classes_word = []\n",
        "classes_for_indexing = []\n",
        "\n",
        "for intent in data_dict['intents']:\n",
        "    for pattern in intent['patterns']:\n",
        "        phrases.append(pattern)\n",
        "        classes_word.append(intent['tag'])\n",
        "        \n",
        "        if intent['tag'] not in classes_for_indexing:\n",
        "            classes_for_indexing.append(intent['tag'])\n",
        "            \n",
        "indexed_classes =[]\n",
        "for intent in classes_word:\n",
        "    indexed_classes.append(classes_for_indexing.index(intent))"
      ],
      "metadata": {
        "id": "iCOXHgSJpef5"
      },
      "execution_count": null,
      "outputs": []
    },
    {
      "cell_type": "code",
      "source": [
        "# classes_word\n",
        "# phrases\n",
        "classes_for_indexing\n",
        "# indexed_classes"
      ],
      "metadata": {
        "id": "mPgYvvECpeyi",
        "colab": {
          "base_uri": "https://localhost:8080/"
        },
        "outputId": "d557afbb-8f31-47ff-c4c0-f8e1dd280f1b"
      },
      "execution_count": null,
      "outputs": [
        {
          "output_type": "execute_result",
          "data": {
            "text/plain": [
              "['greeting',\n",
              " 'goodbye',\n",
              " 'thanks',\n",
              " 'consent',\n",
              " 'disagreement',\n",
              " 'special_offer',\n",
              " 'balance_request',\n",
              " 'balance_top_up',\n",
              " 'connection_application',\n",
              " 'connection_problems',\n",
              " 'whats_tariff',\n",
              " 'change_tariff',\n",
              " 'office_addresses',\n",
              " 'television',\n",
              " 'calling_wizard',\n",
              " 'callback']"
            ]
          },
          "metadata": {},
          "execution_count": 7
        }
      ]
    },
    {
      "cell_type": "code",
      "source": [
        "len(classes_for_indexing), len(indexed_classes), len(phrases), len(classes_word)"
      ],
      "metadata": {
        "colab": {
          "base_uri": "https://localhost:8080/"
        },
        "id": "kgTS7iiXpe7e",
        "outputId": "0ccb9c42-7e44-4839-cd55-1ec2463d5a81"
      },
      "execution_count": null,
      "outputs": [
        {
          "output_type": "execute_result",
          "data": {
            "text/plain": [
              "(16, 1242, 1242, 1242)"
            ]
          },
          "metadata": {},
          "execution_count": 8
        }
      ]
    },
    {
      "cell_type": "code",
      "source": [
        "ex_len = []\n",
        "\n",
        "ex_len.append(classes_word.count('greeting'))\n",
        "ex_len.append(classes_word.count('goodbye'))\n",
        "ex_len.append(classes_word.count('thanks'))\n",
        "ex_len.append(classes_word.count('consent'))\n",
        "ex_len.append(classes_word.count('disagreement'))\n",
        "ex_len.append(classes_word.count('special_offer'))\n",
        "ex_len.append(classes_word.count('balance_request'))\n",
        "ex_len.append(classes_word.count('balance_top_up'))\n",
        "ex_len.append(classes_word.count('connection_application'))\n",
        "ex_len.append(classes_word.count('connection_problems'))\n",
        "ex_len.append(classes_word.count('whats_tariff'))\n",
        "ex_len.append(classes_word.count('change_tariff'))\n",
        "ex_len.append(classes_word.count('office_addresses'))\n",
        "ex_len.append(classes_word.count('television'))\n",
        "ex_len.append(classes_word.count('calling_wizard'))\n",
        "ex_len.append(classes_word.count('callback'))"
      ],
      "metadata": {
        "id": "DJLjJtuYh0bv"
      },
      "execution_count": null,
      "outputs": []
    },
    {
      "cell_type": "code",
      "source": [
        "x = range(1,17)\n",
        "y = ex_len\n",
        "  \n",
        "plt.stem(x, y, use_line_collection = True)\n",
        "plt.show()"
      ],
      "metadata": {
        "colab": {
          "base_uri": "https://localhost:8080/",
          "height": 265
        },
        "id": "atEo9aGmgQBW",
        "outputId": "4b5fc4d5-b53b-4310-d6f1-ca56f321a510"
      },
      "execution_count": null,
      "outputs": [
        {
          "output_type": "display_data",
          "data": {
            "text/plain": [
              "<Figure size 432x288 with 1 Axes>"
            ],
            "image/png": "[encoded data removed]"
          },
          "metadata": {
            "needs_background": "light"
          }
        }
      ]
    },
    {
      "cell_type": "code",
      "source": [
        "def preprocess_phrases(text):\n",
        "    \n",
        "    text_preprocessed = []\n",
        "        \n",
        "    for sentence in text:\n",
        "        new_letter = ''\n",
        "        for letter in sentence:\n",
        "            if letter not in string.punctuation:\n",
        "                new_letter += letter\n",
        "                new_letter = new_letter.lower()    \n",
        "        text_preprocessed.append(new_letter)\n",
        "\n",
        "    return text_preprocessed"
      ],
      "metadata": {
        "id": "1zo94YJWp8z7"
      },
      "execution_count": null,
      "outputs": []
    },
    {
      "cell_type": "code",
      "source": [
        "preprocessed_phrases = preprocess_phrases(phrases)"
      ],
      "metadata": {
        "id": "vvmvL2Iop_KI"
      },
      "execution_count": null,
      "outputs": []
    },
    {
      "cell_type": "code",
      "source": [
        "preprocessed_phrases[720:740]"
      ],
      "metadata": {
        "id": "2dNANwQVsu2H",
        "colab": {
          "base_uri": "https://localhost:8080/"
        },
        "outputId": "816afb2b-b7d5-40db-d20b-f818bcce19d2"
      },
      "execution_count": null,
      "outputs": [
        {
          "output_type": "execute_result",
          "data": {
            "text/plain": [
              "['подключить раздачу интернета',\n",
              " 'выход в интернет',\n",
              " 'хочу выйти в интернет',\n",
              " 'выход в интернет',\n",
              " 'выход в сеть',\n",
              " 'купить подключение',\n",
              " 'телефонный интернет',\n",
              " 'интернет для смартфона',\n",
              " 'поставить модем',\n",
              " 'купить модем',\n",
              " 'подключить модем',\n",
              " 'adsl интернет',\n",
              " 'адсл интернет',\n",
              " 'пакет интернета',\n",
              " 'подключить adsl',\n",
              " 'провести через телефон',\n",
              " 'провести через тарелку',\n",
              " 'интернет для организации',\n",
              " 'цифровой интернет',\n",
              " 'купить оптоволокно']"
            ]
          },
          "metadata": {},
          "execution_count": 13
        }
      ]
    },
    {
      "cell_type": "markdown",
      "source": [
        "**Получаем эмбеддинги от Conversational RuBERT**"
      ],
      "metadata": {
        "id": "uglxHCoRtArW"
      }
    },
    {
      "cell_type": "code",
      "source": [
        "bert_config = read_json(configs.embedder.bert_embedder)\n",
        "bert_config['metadata']['variables']['BERT_PATH'] = 'ru_conversational_cased_L-12_H-768_A-12_pt'\n",
        "\n",
        "model = build_model(bert_config)\n",
        "model_input = build_model(bert_config)"
      ],
      "metadata": {
        "id": "p6ZgFDqb7U5i",
        "colab": {
          "base_uri": "https://localhost:8080/"
        },
        "outputId": "b74fead3-0be5-447c-83ec-803c05f6b4e1"
      },
      "execution_count": null,
      "outputs": [
        {
          "output_type": "stream",
          "name": "stderr",
          "text": [
            "[nltk_data] Downloading package punkt to /root/nltk_data...\n",
            "[nltk_data]   Unzipping tokenizers/punkt.zip.\n",
            "[nltk_data] Downloading package stopwords to /root/nltk_data...\n",
            "[nltk_data]   Unzipping corpora/stopwords.zip.\n",
            "[nltk_data] Downloading package perluniprops to /root/nltk_data...\n",
            "[nltk_data]   Unzipping misc/perluniprops.zip.\n",
            "[nltk_data] Downloading package nonbreaking_prefixes to\n",
            "[nltk_data]     /root/nltk_data...\n",
            "[nltk_data]   Unzipping corpora/nonbreaking_prefixes.zip.\n",
            "Some weights of the model checkpoint at /content/ru_conversational_cased_L-12_H-768_A-12_pt were not used when initializing BertModel: ['cls.predictions.transform.LayerNorm.weight', 'cls.predictions.bias', 'cls.predictions.transform.dense.weight', 'cls.seq_relationship.bias', 'cls.predictions.transform.dense.bias', 'cls.predictions.transform.LayerNorm.bias', 'cls.predictions.decoder.weight', 'cls.seq_relationship.weight']\n",
            "- This IS expected if you are initializing BertModel from the checkpoint of a model trained on another task or with another architecture (e.g. initializing a BertForSequenceClassification model from a BertForPreTraining model).\n",
            "- This IS NOT expected if you are initializing BertModel from the checkpoint of a model that you expect to be exactly identical (initializing a BertForSequenceClassification model from a BertForSequenceClassification model).\n",
            "Some weights of the model checkpoint at /content/ru_conversational_cased_L-12_H-768_A-12_pt were not used when initializing BertModel: ['cls.predictions.transform.LayerNorm.weight', 'cls.predictions.bias', 'cls.predictions.transform.dense.weight', 'cls.seq_relationship.bias', 'cls.predictions.transform.dense.bias', 'cls.predictions.transform.LayerNorm.bias', 'cls.predictions.decoder.weight', 'cls.seq_relationship.weight']\n",
            "- This IS expected if you are initializing BertModel from the checkpoint of a model trained on another task or with another architecture (e.g. initializing a BertForSequenceClassification model from a BertForPreTraining model).\n",
            "- This IS NOT expected if you are initializing BertModel from the checkpoint of a model that you expect to be exactly identical (initializing a BertForSequenceClassification model from a BertForSequenceClassification model).\n"
          ]
        }
      ]
    },
    {
      "cell_type": "code",
      "source": [
        "tokens, token_embs, subtokens, subtoken_embs, sent_max_embs, sent_mean_embs, bert_pooler_outputs = model(preprocessed_phrases)"
      ],
      "metadata": {
        "id": "_E9xVsGm7mqa"
      },
      "execution_count": null,
      "outputs": []
    },
    {
      "cell_type": "code",
      "source": [
        "# Ищем максимум и минимум\n",
        "print(sent_mean_embs.min())\n",
        "print(sent_mean_embs.max())"
      ],
      "metadata": {
        "colab": {
          "base_uri": "https://localhost:8080/"
        },
        "id": "hl_e77TSvj9b",
        "outputId": "cb8cbd8e-8169-405f-b8cb-dbbd45830048"
      },
      "execution_count": null,
      "outputs": [
        {
          "output_type": "stream",
          "name": "stdout",
          "text": [
            "-3.234143\n",
            "3.7270842\n"
          ]
        }
      ]
    },
    {
      "cell_type": "code",
      "source": [
        "# pd.DataFrame(sent_mean_embs).to_csv(\"embs.csv\")"
      ],
      "metadata": {
        "id": "F3NeIXkK-ry4"
      },
      "execution_count": null,
      "outputs": []
    },
    {
      "cell_type": "markdown",
      "source": [
        "Делим данные на train и test "
      ],
      "metadata": {
        "id": "IPgtEGIwhgZy"
      }
    },
    {
      "cell_type": "code",
      "source": [
        "X_train, X_test, y_train, y_test = train_test_split(sent_mean_embs,indexed_classes, test_size=0.25, random_state=42)"
      ],
      "metadata": {
        "id": "E9zFMFpP0CZV"
      },
      "execution_count": null,
      "outputs": []
    },
    {
      "cell_type": "code",
      "source": [
        "X_train.shape, X_test.shape"
      ],
      "metadata": {
        "colab": {
          "base_uri": "https://localhost:8080/"
        },
        "id": "bA_Ff9kF6gnS",
        "outputId": "e233b858-6cdf-4125-c05f-f9f8e61e4fa0"
      },
      "execution_count": null,
      "outputs": [
        {
          "output_type": "execute_result",
          "data": {
            "text/plain": [
              "((931, 768), (311, 768))"
            ]
          },
          "metadata": {},
          "execution_count": 19
        }
      ]
    },
    {
      "cell_type": "markdown",
      "source": [
        "**Используем LogisticRegression от Sklearn на sent_mean_embs от ruBert**"
      ],
      "metadata": {
        "id": "boP0xjrmvKg6"
      }
    },
    {
      "cell_type": "code",
      "source": [
        "logreg = LogisticRegression(C=0.1, random_state=42).fit(X_train, y_train)"
      ],
      "metadata": {
        "id": "jylu1dXl0Coq"
      },
      "execution_count": null,
      "outputs": []
    },
    {
      "cell_type": "markdown",
      "source": [
        "Вычисляем accuracy "
      ],
      "metadata": {
        "id": "_UC-zdRKuusd"
      }
    },
    {
      "cell_type": "code",
      "source": [
        "print(\"Правильность на обучающем наборе:\", logreg.score(X_train, y_train))\n",
        "print(\"Правильность на тестовом наборе:\", logreg.score(X_test, y_test))"
      ],
      "metadata": {
        "colab": {
          "base_uri": "https://localhost:8080/"
        },
        "id": "VJ0yBcBR0CuV",
        "outputId": "8c061772-78af-410c-b427-3a8a64bca681"
      },
      "execution_count": null,
      "outputs": [
        {
          "output_type": "stream",
          "name": "stdout",
          "text": [
            "Правильность на обучающем наборе: 0.9967776584317938\n",
            "Правильность на тестовом наборе: 0.7813504823151125\n"
          ]
        }
      ]
    },
    {
      "cell_type": "markdown",
      "source": [
        "Вычисляем main classification metrics"
      ],
      "metadata": {
        "id": "bIW_yasH5eer"
      }
    },
    {
      "cell_type": "code",
      "source": [
        "train_preds_logreg = logreg.predict(X_train)\n",
        "\n",
        "test_preds_logreg = logreg.predict(X_test)"
      ],
      "metadata": {
        "id": "sVHdBvwa0C0k"
      },
      "execution_count": null,
      "outputs": []
    },
    {
      "cell_type": "code",
      "source": [
        "print(classification_report(y_train, train_preds_logreg))"
      ],
      "metadata": {
        "id": "mpzf3YvkM4T9",
        "colab": {
          "base_uri": "https://localhost:8080/"
        },
        "outputId": "e71cfe31-f411-4a13-8fde-e16ebd3dee91"
      },
      "execution_count": null,
      "outputs": [
        {
          "output_type": "stream",
          "name": "stdout",
          "text": [
            "              precision    recall  f1-score   support\n",
            "\n",
            "           0       1.00      1.00      1.00        78\n",
            "           1       1.00      1.00      1.00        67\n",
            "           2       1.00      0.98      0.99        41\n",
            "           3       0.99      1.00      0.99        68\n",
            "           4       1.00      1.00      1.00       102\n",
            "           5       0.98      1.00      0.99        56\n",
            "           6       1.00      1.00      1.00        34\n",
            "           7       1.00      1.00      1.00        46\n",
            "           8       0.98      1.00      0.99        64\n",
            "           9       1.00      1.00      1.00        85\n",
            "          10       1.00      0.98      0.99        60\n",
            "          11       1.00      1.00      1.00        44\n",
            "          12       1.00      1.00      1.00        55\n",
            "          13       1.00      0.97      0.99        40\n",
            "          14       1.00      1.00      1.00        47\n",
            "          15       1.00      1.00      1.00        44\n",
            "\n",
            "    accuracy                           1.00       931\n",
            "   macro avg       1.00      1.00      1.00       931\n",
            "weighted avg       1.00      1.00      1.00       931\n",
            "\n"
          ]
        }
      ]
    },
    {
      "cell_type": "code",
      "source": [
        "print(classification_report(y_test, test_preds_logreg))"
      ],
      "metadata": {
        "id": "LrZF3IUd0Df3",
        "colab": {
          "base_uri": "https://localhost:8080/"
        },
        "outputId": "8c71f5ed-bb4a-4bc5-9fb0-8f81abd12c8f"
      },
      "execution_count": null,
      "outputs": [
        {
          "output_type": "stream",
          "name": "stdout",
          "text": [
            "              precision    recall  f1-score   support\n",
            "\n",
            "           0       0.83      0.95      0.89        21\n",
            "           1       0.95      0.86      0.90        22\n",
            "           2       0.91      0.62      0.74        16\n",
            "           3       0.78      0.90      0.84        31\n",
            "           4       0.80      0.92      0.86        36\n",
            "           5       0.78      0.93      0.85        15\n",
            "           6       0.70      0.50      0.58        14\n",
            "           7       0.64      0.54      0.58        13\n",
            "           8       0.86      0.86      0.86        29\n",
            "           9       0.94      0.71      0.81        21\n",
            "          10       0.58      0.61      0.59        18\n",
            "          11       0.62      0.68      0.65        19\n",
            "          12       0.80      0.80      0.80        20\n",
            "          13       0.71      0.71      0.71         7\n",
            "          14       0.73      0.73      0.73        15\n",
            "          15       0.69      0.64      0.67        14\n",
            "\n",
            "    accuracy                           0.78       311\n",
            "   macro avg       0.77      0.75      0.75       311\n",
            "weighted avg       0.79      0.78      0.78       311\n",
            "\n"
          ]
        }
      ]
    },
    {
      "cell_type": "markdown",
      "source": [
        "Вычисяем roc_auc_score"
      ],
      "metadata": {
        "id": "CrSzxtNHuTVF"
      }
    },
    {
      "cell_type": "code",
      "source": [
        "train_preds_proba_logreg = logreg.predict_proba(X_train)\n",
        "\n",
        "test_preds_proba_logreg = logreg.predict_proba(X_test)"
      ],
      "metadata": {
        "id": "BG4SCEoDs2K3"
      },
      "execution_count": null,
      "outputs": []
    },
    {
      "cell_type": "code",
      "source": [
        "roc_auc_score(y_train, train_preds_proba_logreg, multi_class='ovr')"
      ],
      "metadata": {
        "colab": {
          "base_uri": "https://localhost:8080/"
        },
        "id": "ZgRaQ9VTuJS0",
        "outputId": "d164133b-3d65-4f27-c727-9cdd2d64c76b"
      },
      "execution_count": null,
      "outputs": [
        {
          "output_type": "execute_result",
          "data": {
            "text/plain": [
              "0.9999942818894616"
            ]
          },
          "metadata": {},
          "execution_count": 32
        }
      ]
    },
    {
      "cell_type": "code",
      "source": [
        "roc_auc_score(y_test, test_preds_proba_logreg, multi_class='ovr')"
      ],
      "metadata": {
        "colab": {
          "base_uri": "https://localhost:8080/"
        },
        "id": "EiFKgNBEs0-I",
        "outputId": "1f622358-7d36-41e0-e893-77830f50a902"
      },
      "execution_count": null,
      "outputs": [
        {
          "output_type": "execute_result",
          "data": {
            "text/plain": [
              "0.980140665599365"
            ]
          },
          "metadata": {},
          "execution_count": 33
        }
      ]
    },
    {
      "cell_type": "markdown",
      "source": [
        "Вычисляем cross_val_score"
      ],
      "metadata": {
        "id": "Y_g-Jc8Wp8xq"
      }
    },
    {
      "cell_type": "code",
      "source": [
        "lr = LogisticRegression(C=0.1, random_state=42)"
      ],
      "metadata": {
        "id": "6mMoUXs7quM9"
      },
      "execution_count": null,
      "outputs": []
    },
    {
      "cell_type": "code",
      "source": [
        "scores = cross_val_score(lr, sent_mean_embs, indexed_classes, cv=10)\n",
        "print('Значения правильности перекрёстной проверки:', scores)\n",
        "print('Среднее значение правильности перекрёстной проверки:', scores.mean())\n"
      ],
      "metadata": {
        "colab": {
          "base_uri": "https://localhost:8080/"
        },
        "id": "shm0czIoqL9M",
        "outputId": "5060b244-c610-48b9-8461-eb71dc327e4e"
      },
      "execution_count": null,
      "outputs": [
        {
          "output_type": "stream",
          "name": "stdout",
          "text": [
            "Значения правильности перекрёстной проверки: [0.768      0.824      0.7983871  0.66935484 0.74193548 0.80645161\n",
            " 0.7983871  0.7983871  0.77419355 0.79032258]\n",
            "Среднее значение правильности перекрёстной проверки: 0.7769419354838709\n"
          ]
        }
      ]
    },
    {
      "cell_type": "markdown",
      "source": [
        "**Используем DecisionTreeClassifier от Sklearn на sent_mean_embs от ruBert**"
      ],
      "metadata": {
        "id": "Nshb2OYHKRXU"
      }
    },
    {
      "cell_type": "code",
      "source": [
        "tree = DecisionTreeClassifier(max_depth=30)"
      ],
      "metadata": {
        "id": "SbD6wHNuK8M6"
      },
      "execution_count": null,
      "outputs": []
    },
    {
      "cell_type": "code",
      "source": [
        "tree.fit(X_train, y_train)"
      ],
      "metadata": {
        "colab": {
          "base_uri": "https://localhost:8080/"
        },
        "id": "3eIs3sVGZRyV",
        "outputId": "073155ac-f8e4-414f-d089-65d0f452c20e"
      },
      "execution_count": null,
      "outputs": [
        {
          "output_type": "execute_result",
          "data": {
            "text/plain": [
              "DecisionTreeClassifier(max_depth=30)"
            ]
          },
          "metadata": {},
          "execution_count": 72
        }
      ]
    },
    {
      "cell_type": "markdown",
      "source": [
        "Вычисляем accuracy"
      ],
      "metadata": {
        "id": "EH10p1Zo6QIE"
      }
    },
    {
      "cell_type": "code",
      "source": [
        "print(\"Правильность на обучающем наборе:\", tree.score(X_train, y_train))\n",
        "print(\"Правильность на тестовом наборе:\", tree.score(X_test, y_test))"
      ],
      "metadata": {
        "colab": {
          "base_uri": "https://localhost:8080/"
        },
        "id": "avgQIBmcg9yT",
        "outputId": "ff9c2e5a-d6dc-48cb-97c1-d0387bac103b"
      },
      "execution_count": null,
      "outputs": [
        {
          "output_type": "stream",
          "name": "stdout",
          "text": [
            "Правильность на обучающем наборе: 0.9989258861439313\n",
            "Правильность на тестовом наборе: 0.3215434083601286\n"
          ]
        }
      ]
    },
    {
      "cell_type": "markdown",
      "source": [
        "Вычисляем main classification metrics"
      ],
      "metadata": {
        "id": "Sy1cgMVn6kWE"
      }
    },
    {
      "cell_type": "code",
      "source": [
        "train_preds_tree = tree.predict(X_train)\n",
        "\n",
        "test_preds_tree = tree.predict(X_test)"
      ],
      "metadata": {
        "id": "aJut_mnQiMbj"
      },
      "execution_count": null,
      "outputs": []
    },
    {
      "cell_type": "code",
      "source": [
        "print(classification_report(y_train, train_preds_tree))"
      ],
      "metadata": {
        "id": "WrJjH4kF6srr",
        "colab": {
          "base_uri": "https://localhost:8080/"
        },
        "outputId": "9c05d6de-fceb-4678-f410-8cc9d9d26597"
      },
      "execution_count": null,
      "outputs": [
        {
          "output_type": "stream",
          "name": "stdout",
          "text": [
            "              precision    recall  f1-score   support\n",
            "\n",
            "           0       1.00      1.00      1.00        78\n",
            "           1       1.00      1.00      1.00        67\n",
            "           2       0.98      1.00      0.99        41\n",
            "           3       1.00      0.99      0.99        68\n",
            "           4       1.00      1.00      1.00       102\n",
            "           5       1.00      1.00      1.00        56\n",
            "           6       1.00      1.00      1.00        34\n",
            "           7       1.00      1.00      1.00        46\n",
            "           8       1.00      1.00      1.00        64\n",
            "           9       1.00      1.00      1.00        85\n",
            "          10       1.00      1.00      1.00        60\n",
            "          11       1.00      1.00      1.00        44\n",
            "          12       1.00      1.00      1.00        55\n",
            "          13       1.00      1.00      1.00        40\n",
            "          14       1.00      1.00      1.00        47\n",
            "          15       1.00      1.00      1.00        44\n",
            "\n",
            "    accuracy                           1.00       931\n",
            "   macro avg       1.00      1.00      1.00       931\n",
            "weighted avg       1.00      1.00      1.00       931\n",
            "\n"
          ]
        }
      ]
    },
    {
      "cell_type": "code",
      "source": [
        "print(classification_report(y_test, test_preds_tree))"
      ],
      "metadata": {
        "id": "NeFPIHzF61pJ",
        "colab": {
          "base_uri": "https://localhost:8080/"
        },
        "outputId": "b159ca7a-e3c6-4f0f-f629-f8a8d96a04f5"
      },
      "execution_count": null,
      "outputs": [
        {
          "output_type": "stream",
          "name": "stdout",
          "text": [
            "              precision    recall  f1-score   support\n",
            "\n",
            "           0       0.19      0.24      0.21        21\n",
            "           1       0.40      0.45      0.43        22\n",
            "           2       0.50      0.44      0.47        16\n",
            "           3       0.46      0.42      0.44        31\n",
            "           4       0.32      0.33      0.33        36\n",
            "           5       0.26      0.33      0.29        15\n",
            "           6       0.31      0.29      0.30        14\n",
            "           7       0.22      0.15      0.18        13\n",
            "           8       0.63      0.41      0.50        29\n",
            "           9       0.30      0.38      0.33        21\n",
            "          10       0.17      0.22      0.19        18\n",
            "          11       0.23      0.16      0.19        19\n",
            "          12       0.40      0.40      0.40        20\n",
            "          13       0.15      0.29      0.20         7\n",
            "          14       0.15      0.13      0.14        15\n",
            "          15       0.27      0.21      0.24        14\n",
            "\n",
            "    accuracy                           0.32       311\n",
            "   macro avg       0.31      0.30      0.30       311\n",
            "weighted avg       0.34      0.32      0.33       311\n",
            "\n"
          ]
        }
      ]
    },
    {
      "cell_type": "markdown",
      "source": [
        "Вычисяем roc_auc_score"
      ],
      "metadata": {
        "id": "khj717jD6_7k"
      }
    },
    {
      "cell_type": "code",
      "source": [
        "train_preds_proba_tree = tree.predict_proba(X_train)\n",
        "\n",
        "test_preds_proba_tree = tree.predict_proba(X_test)"
      ],
      "metadata": {
        "id": "joWDAzMlr40o"
      },
      "execution_count": null,
      "outputs": []
    },
    {
      "cell_type": "code",
      "source": [
        "roc_auc_score(y_train, train_preds_proba_tree, multi_class='ovr')"
      ],
      "metadata": {
        "colab": {
          "base_uri": "https://localhost:8080/"
        },
        "id": "i-eo_WWQ7MUF",
        "outputId": "e5ebaa25-6366-4be2-801b-36caafeec05a"
      },
      "execution_count": null,
      "outputs": [
        {
          "output_type": "execute_result",
          "data": {
            "text/plain": [
              "0.9999986110878655"
            ]
          },
          "metadata": {},
          "execution_count": 78
        }
      ]
    },
    {
      "cell_type": "code",
      "source": [
        "roc_auc_score(y_test, test_preds_proba_tree, multi_class='ovr')"
      ],
      "metadata": {
        "colab": {
          "base_uri": "https://localhost:8080/"
        },
        "id": "OyqNPbybi2OZ",
        "outputId": "e8851c28-2f91-4439-8116-7a46f979f810"
      },
      "execution_count": null,
      "outputs": [
        {
          "output_type": "execute_result",
          "data": {
            "text/plain": [
              "0.6292480157221901"
            ]
          },
          "metadata": {},
          "execution_count": 79
        }
      ]
    },
    {
      "cell_type": "markdown",
      "source": [
        "Вычисляем cross_val_score"
      ],
      "metadata": {
        "id": "6f-nLhISytUe"
      }
    },
    {
      "cell_type": "code",
      "source": [
        "scores = cross_val_score(tree, sent_mean_embs, indexed_classes, cv=10)\n",
        "print('Значения правильности перекрёстной проверки:', scores)\n",
        "print('Среднее значение правильности перекрёстной проверки:', scores.mean())"
      ],
      "metadata": {
        "colab": {
          "base_uri": "https://localhost:8080/"
        },
        "id": "xsJfeSkzytpL",
        "outputId": "402d94e4-1c99-4094-871c-7119c3bf1bac"
      },
      "execution_count": null,
      "outputs": [
        {
          "output_type": "stream",
          "name": "stdout",
          "text": [
            "Значения правильности перекрёстной проверки: [0.376      0.336      0.28225806 0.25       0.2983871  0.29032258\n",
            " 0.2983871  0.2983871  0.29032258 0.28225806]\n",
            "Среднее значение правильности перекрёстной проверки: 0.30023225806451614\n"
          ]
        }
      ]
    },
    {
      "cell_type": "markdown",
      "source": [
        "**Используем SVC-классификатор**"
      ],
      "metadata": {
        "id": "xVokTa8Z7pcC"
      }
    },
    {
      "cell_type": "markdown",
      "source": [
        "Попробуем LinearSVC"
      ],
      "metadata": {
        "id": "_tsp776sqfeN"
      }
    },
    {
      "cell_type": "code",
      "source": [
        "lin_svc = LinearSVC()"
      ],
      "metadata": {
        "id": "ZPZfw-9uoI_X"
      },
      "execution_count": null,
      "outputs": []
    },
    {
      "cell_type": "code",
      "source": [
        "lin_svc.fit(X_train, y_train)"
      ],
      "metadata": {
        "colab": {
          "base_uri": "https://localhost:8080/"
        },
        "id": "6xNDDMWxpl81",
        "outputId": "66059b23-af96-4ca7-acf1-5c1479a5bc5b"
      },
      "execution_count": null,
      "outputs": [
        {
          "output_type": "execute_result",
          "data": {
            "text/plain": [
              "LinearSVC()"
            ]
          },
          "metadata": {},
          "execution_count": 82
        }
      ]
    },
    {
      "cell_type": "code",
      "source": [
        "print(\"Правильность на обучающем наборе:\", lin_svc.score(X_train, y_train))\n",
        "print(\"Правильность на тестовом наборе:\", lin_svc.score(X_test, y_test))"
      ],
      "metadata": {
        "colab": {
          "base_uri": "https://localhost:8080/"
        },
        "id": "NkWg9FuCp2rC",
        "outputId": "166f905e-6499-413d-935a-ebc7e9c40c6c"
      },
      "execution_count": null,
      "outputs": [
        {
          "output_type": "stream",
          "name": "stdout",
          "text": [
            "Правильность на обучающем наборе: 0.9989258861439313\n",
            "Правильность на тестовом наборе: 0.7491961414790996\n"
          ]
        }
      ]
    },
    {
      "cell_type": "markdown",
      "source": [
        "А теперь просто SVC"
      ],
      "metadata": {
        "id": "Ku5Gqt5aq7r-"
      }
    },
    {
      "cell_type": "code",
      "source": [
        "svc = SVC(C=10, gamma=0.001, probability = True)"
      ],
      "metadata": {
        "id": "az38WSX48Lur"
      },
      "execution_count": null,
      "outputs": []
    },
    {
      "cell_type": "code",
      "source": [
        "svc.fit(X_train, y_train)"
      ],
      "metadata": {
        "id": "ezt1dggPGRJt",
        "colab": {
          "base_uri": "https://localhost:8080/"
        },
        "outputId": "4784a2e5-7b78-48e5-ff9e-bef97404d87c"
      },
      "execution_count": null,
      "outputs": [
        {
          "output_type": "execute_result",
          "data": {
            "text/plain": [
              "SVC(C=10, gamma=0.001, probability=True)"
            ]
          },
          "metadata": {},
          "execution_count": 85
        }
      ]
    },
    {
      "cell_type": "markdown",
      "source": [
        "Вычисляем accuracy"
      ],
      "metadata": {
        "id": "gqykVeKRbtzE"
      }
    },
    {
      "cell_type": "code",
      "source": [
        "# Это лучший результат\n",
        "print(\"Правильность на обучающем наборе:\", svc.score(X_train, y_train))\n",
        "print(\"Правильность на тестовом наборе:\", svc.score(X_test, y_test))"
      ],
      "metadata": {
        "colab": {
          "base_uri": "https://localhost:8080/"
        },
        "id": "najrwhQ6bTQ5",
        "outputId": "c485b937-9f43-41fe-b6e8-bd64657b405a"
      },
      "execution_count": null,
      "outputs": [
        {
          "output_type": "stream",
          "name": "stdout",
          "text": [
            "Правильность на обучающем наборе: 0.9881847475832438\n",
            "Правильность на тестовом наборе: 0.8006430868167203\n"
          ]
        }
      ]
    },
    {
      "cell_type": "markdown",
      "source": [
        "Вычисляем cross_val_score"
      ],
      "metadata": {
        "id": "hLB8xl7RbwaV"
      }
    },
    {
      "cell_type": "code",
      "source": [
        "scores = cross_val_score(svc, sent_mean_embs, indexed_classes, cv=10)\n",
        "print('Значения правильности перекрёстной проверки:', scores)\n",
        "print('Среднее значение правильности перекрёстной проверки:', scores.mean())"
      ],
      "metadata": {
        "colab": {
          "base_uri": "https://localhost:8080/"
        },
        "id": "ZldzHTsPb9oX",
        "outputId": "644d89c8-d4ea-4fe4-c1eb-3861fd7ab8c7"
      },
      "execution_count": null,
      "outputs": [
        {
          "output_type": "stream",
          "name": "stdout",
          "text": [
            "Значения правильности перекрёстной проверки: [0.792      0.848      0.79032258 0.65322581 0.76612903 0.74193548\n",
            " 0.78225806 0.7983871  0.77419355 0.78225806]\n",
            "Среднее значение правильности перекрёстной проверки: 0.7728709677419354\n"
          ]
        }
      ]
    },
    {
      "cell_type": "markdown",
      "source": [
        ""
      ],
      "metadata": {
        "id": "V1G-Si2t2KFw"
      }
    },
    {
      "cell_type": "markdown",
      "source": [
        "Подключаем GridSearchCV"
      ],
      "metadata": {
        "id": "N6Nn4yZifeA-"
      }
    },
    {
      "cell_type": "code",
      "source": [
        "parametrs = {'gamma': [0.001, 0.01, 0.1, 1, 10, 100],\n",
        "              'C': [0.001, 0.01, 0.1, 1, 10, 100]}"
      ],
      "metadata": {
        "id": "OMA5Cmiec0Y9"
      },
      "execution_count": null,
      "outputs": []
    },
    {
      "cell_type": "code",
      "source": [
        "grid = GridSearchCV(SVC(), parametrs, cv=5)\n",
        "grid.fit(X_train, y_train)"
      ],
      "metadata": {
        "colab": {
          "base_uri": "https://localhost:8080/"
        },
        "id": "yDf9uMa1c05q",
        "outputId": "be0bc8da-42cb-4d58-e42e-94967af3e28e"
      },
      "execution_count": null,
      "outputs": [
        {
          "output_type": "execute_result",
          "data": {
            "text/plain": [
              "GridSearchCV(cv=5, estimator=SVC(),\n",
              "             param_grid={'C': [0.001, 0.01, 0.1, 1, 10, 100],\n",
              "                         'gamma': [0.001, 0.01, 0.1, 1, 10, 100]})"
            ]
          },
          "metadata": {},
          "execution_count": 26
        }
      ]
    },
    {
      "cell_type": "code",
      "source": [
        "grid.best_params_"
      ],
      "metadata": {
        "colab": {
          "base_uri": "https://localhost:8080/"
        },
        "id": "2tpy4RP0jvkb",
        "outputId": "c3506809-516e-43c0-b858-a1fc45deab6d"
      },
      "execution_count": null,
      "outputs": [
        {
          "output_type": "execute_result",
          "data": {
            "text/plain": [
              "{'C': 10, 'gamma': 0.001}"
            ]
          },
          "metadata": {},
          "execution_count": 182
        }
      ]
    },
    {
      "cell_type": "markdown",
      "source": [
        "Отмасштабируем данные"
      ],
      "metadata": {
        "id": "xsYerhbh2Fq4"
      }
    },
    {
      "cell_type": "code",
      "source": [
        "scaler = MinMaxScaler()"
      ],
      "metadata": {
        "id": "BBBgL4hX2SOR"
      },
      "execution_count": null,
      "outputs": []
    },
    {
      "cell_type": "code",
      "source": [
        "scaler.fit(X_train)"
      ],
      "metadata": {
        "colab": {
          "base_uri": "https://localhost:8080/"
        },
        "id": "WaYURBzN278n",
        "outputId": "7e313f97-16e3-4889-f3e8-fe844cc0ec2e"
      },
      "execution_count": null,
      "outputs": [
        {
          "output_type": "execute_result",
          "data": {
            "text/plain": [
              "MinMaxScaler()"
            ]
          },
          "metadata": {},
          "execution_count": 158
        }
      ]
    },
    {
      "cell_type": "code",
      "source": [
        "X_train_scaled = scaler.transform(X_train)"
      ],
      "metadata": {
        "id": "2FdbtZgP3FUV"
      },
      "execution_count": null,
      "outputs": []
    },
    {
      "cell_type": "code",
      "source": [
        "X_test_scaled = scaler.transform(X_test)"
      ],
      "metadata": {
        "id": "CsU-MlFw3VD7"
      },
      "execution_count": null,
      "outputs": []
    },
    {
      "cell_type": "code",
      "source": [
        "svc.fit(X_train_scaled, y_train)"
      ],
      "metadata": {
        "colab": {
          "base_uri": "https://localhost:8080/"
        },
        "id": "umqzvv_v3hLW",
        "outputId": "9890b0ee-0f45-4574-a6b8-22f3071a319c"
      },
      "execution_count": null,
      "outputs": [
        {
          "output_type": "execute_result",
          "data": {
            "text/plain": [
              "SVC(C=10, gamma=0.001)"
            ]
          },
          "metadata": {},
          "execution_count": 186
        }
      ]
    },
    {
      "cell_type": "code",
      "source": [
        "# Результат стал похуже\n",
        "print(\"Правильность на обучающем наборе:\", svc.score(X_train_scaled, y_train))\n",
        "print(\"Правильность на тестовом наборе:\", svc.score(X_test_scaled, y_test))"
      ],
      "metadata": {
        "colab": {
          "base_uri": "https://localhost:8080/"
        },
        "id": "au3oKoyb3-cA",
        "outputId": "6b626997-fe47-48ac-d8ec-be471d5110bc"
      },
      "execution_count": null,
      "outputs": [
        {
          "output_type": "stream",
          "name": "stdout",
          "text": [
            "Правильность на обучающем наборе: 0.8539205155746509\n",
            "Правильность на тестовом наборе: 0.7781350482315113\n"
          ]
        }
      ]
    },
    {
      "cell_type": "markdown",
      "source": [
        "**Используем RandomForestClassifier**"
      ],
      "metadata": {
        "id": "U53kmGZ6cndV"
      }
    },
    {
      "cell_type": "code",
      "source": [
        "rfclf = RandomForestClassifier(max_features = 27)"
      ],
      "metadata": {
        "id": "LorbTkPbc1IH"
      },
      "execution_count": null,
      "outputs": []
    },
    {
      "cell_type": "code",
      "source": [
        "rfclf.fit(X_train, y_train)"
      ],
      "metadata": {
        "colab": {
          "base_uri": "https://localhost:8080/"
        },
        "id": "tK1z6ijRc1FV",
        "outputId": "370095ab-6823-46a3-9132-db4422cdec5c"
      },
      "execution_count": null,
      "outputs": [
        {
          "output_type": "execute_result",
          "data": {
            "text/plain": [
              "RandomForestClassifier(max_features=27)"
            ]
          },
          "metadata": {},
          "execution_count": 94
        }
      ]
    },
    {
      "cell_type": "code",
      "source": [
        "len(rfclf.estimators_)"
      ],
      "metadata": {
        "colab": {
          "base_uri": "https://localhost:8080/"
        },
        "id": "wiz8hg_QxAAA",
        "outputId": "cdefa0d7-54ee-4d43-f092-f2f9d3a8b150"
      },
      "execution_count": null,
      "outputs": [
        {
          "output_type": "execute_result",
          "data": {
            "text/plain": [
              "100"
            ]
          },
          "metadata": {},
          "execution_count": 90
        }
      ]
    },
    {
      "cell_type": "markdown",
      "source": [
        "Вычисляем accuracy"
      ],
      "metadata": {
        "id": "efNHUxhKe8le"
      }
    },
    {
      "cell_type": "code",
      "source": [
        "print(\"Правильность на обучающем наборе:\", rfclf.score(X_train, y_train))\n",
        "print(\"Правильность на тестовом наборе:\", rfclf.score(X_test, y_test))"
      ],
      "metadata": {
        "colab": {
          "base_uri": "https://localhost:8080/"
        },
        "id": "tNoxRvigc1Cf",
        "outputId": "ef117d59-891a-4e1e-ea27-8f2a8b24ff47"
      },
      "execution_count": null,
      "outputs": [
        {
          "output_type": "stream",
          "name": "stdout",
          "text": [
            "Правильность на обучающем наборе: 0.9989258861439313\n",
            "Правильность на тестовом наборе: 0.662379421221865\n"
          ]
        }
      ]
    },
    {
      "cell_type": "markdown",
      "source": [
        "**Используем GradientBoostingClassifier**"
      ],
      "metadata": {
        "id": "XtQJ0upOtwJ_"
      }
    },
    {
      "cell_type": "code",
      "source": [
        "gbclf = GradientBoostingClassifier(max_depth=2)"
      ],
      "metadata": {
        "id": "0QeLyORJt6NW"
      },
      "execution_count": null,
      "outputs": []
    },
    {
      "cell_type": "code",
      "source": [
        "gbclf.fit(X_train, y_train)"
      ],
      "metadata": {
        "colab": {
          "base_uri": "https://localhost:8080/"
        },
        "id": "09bS8cQSuBwH",
        "outputId": "7f7dd39d-c514-4a9a-df77-c0687f592688"
      },
      "execution_count": null,
      "outputs": [
        {
          "output_type": "execute_result",
          "data": {
            "text/plain": [
              "GradientBoostingClassifier(max_depth=2)"
            ]
          },
          "metadata": {},
          "execution_count": 97
        }
      ]
    },
    {
      "cell_type": "code",
      "source": [
        "print(\"Правильность на обучающем наборе:\", gbclf.score(X_train, y_train))\n",
        "print(\"Правильность на тестовом наборе:\", gbclf.score(X_test, y_test))"
      ],
      "metadata": {
        "colab": {
          "base_uri": "https://localhost:8080/"
        },
        "id": "66Nw0EZzuMQ9",
        "outputId": "a3200277-c70e-4911-a042-46e67334887c"
      },
      "execution_count": null,
      "outputs": [
        {
          "output_type": "stream",
          "name": "stdout",
          "text": [
            "Правильность на обучающем наборе: 0.9989258861439313\n",
            "Правильность на тестовом наборе: 0.594855305466238\n"
          ]
        }
      ]
    },
    {
      "cell_type": "markdown",
      "source": [
        "**Делаем пробное предсказание на SVC-классификаторе**"
      ],
      "metadata": {
        "id": "Af9_O88KoJy1"
      }
    },
    {
      "cell_type": "code",
      "source": [
        "tokens_input, token_embs_input, subtokens_input, subtoken_embs_input, sent_max_embs_input, sent_mean_embs_input, bert_pooler_outputs_input = model_input(['Здравствуйте. Хочу провести интернет в сад'])"
      ],
      "metadata": {
        "id": "aNYyuGBbri4q"
      },
      "execution_count": null,
      "outputs": []
    },
    {
      "cell_type": "code",
      "source": [
        "sent_mean_embs_input.shape"
      ],
      "metadata": {
        "colab": {
          "base_uri": "https://localhost:8080/"
        },
        "id": "ptUqL8OOsgF9",
        "outputId": "c7fbd25d-b613-46e5-8cfa-d46d09a66209"
      },
      "execution_count": null,
      "outputs": [
        {
          "output_type": "execute_result",
          "data": {
            "text/plain": [
              "(1, 768)"
            ]
          },
          "metadata": {},
          "execution_count": 62
        }
      ]
    },
    {
      "cell_type": "code",
      "source": [
        "svc_predict = svc.predict_proba(sent_mean_embs_input)"
      ],
      "metadata": {
        "id": "W7oCRtrqraMd"
      },
      "execution_count": null,
      "outputs": []
    },
    {
      "cell_type": "code",
      "source": [
        "# svc_predict = svc.predict(sent_mean_embs_input)\n",
        "# predict_list = svc_predict.tolist()[0]"
      ],
      "metadata": {
        "id": "vAjpe3azGMdH"
      },
      "execution_count": null,
      "outputs": []
    },
    {
      "cell_type": "code",
      "source": [
        "predict_list = svc_predict.tolist()[0]\n",
        "predict_list"
      ],
      "metadata": {
        "colab": {
          "base_uri": "https://localhost:8080/"
        },
        "id": "cH7WNAlMADhj",
        "outputId": "f708f099-e38d-43a3-d309-6cdc84d88d63"
      },
      "execution_count": null,
      "outputs": [
        {
          "output_type": "execute_result",
          "data": {
            "text/plain": [
              "[0.00040298326849058484,\n",
              " 0.0002014837905666295,\n",
              " 0.0003061414042219517,\n",
              " 0.0005268845035231849,\n",
              " 0.0002600268926633676,\n",
              " 0.0025165354239865055,\n",
              " 0.0006591243736040867,\n",
              " 0.0017278394726679225,\n",
              " 0.9452311260095486,\n",
              " 0.008524078196201662,\n",
              " 0.0008936268227026921,\n",
              " 0.002818109037934679,\n",
              " 0.0008339383589352453,\n",
              " 0.02172069473073407,\n",
              " 0.0066892154794201165,\n",
              " 0.0066881922347986475]"
            ]
          },
          "metadata": {},
          "execution_count": 68
        }
      ]
    },
    {
      "cell_type": "code",
      "source": [
        "x = classes_for_indexing\n",
        "y = predict_list\n",
        "\n",
        "fig, ax = plt.subplots()\n",
        "\n",
        "color_rectangle = np.random.rand(7, 3) \n",
        "ax.bar(x, y, color = color_rectangle)\n",
        "\n",
        "fig.set_figwidth(25)   \n",
        "fig.set_figheight(5)   \n",
        "\n",
        "plt.show()"
      ],
      "metadata": {
        "colab": {
          "base_uri": "https://localhost:8080/",
          "height": 253
        },
        "id": "WcuSOhUp6uKM",
        "outputId": "3439c6d8-1190-44b1-81ce-76227375cdfd"
      },
      "execution_count": null,
      "outputs": [
        {
          "output_type": "display_data",
          "data": {
            "text/plain": [
              "<Figure size 1800x360 with 1 Axes>"
            ],
            "image/png": "[encoded data removed]"
          },
          "metadata": {
            "needs_background": "light"
          }
        }
      ]
    },
    {
      "cell_type": "markdown",
      "source": [
        "**Пишем скрипт для чат-бота**"
      ],
      "metadata": {
        "id": "GdVtnR9Dskhh"
      }
    },
    {
      "cell_type": "code",
      "source": [
        "from df_engine.core.keywords import GLOBAL, TRANSITIONS, RESPONSE\n",
        "from df_engine.core import Context, Actor\n",
        "import df_engine.conditions as cnd\n",
        "from typing import Union"
      ],
      "metadata": {
        "id": "lhbtf5p5sv-7"
      },
      "execution_count": null,
      "outputs": []
    },
    {
      "cell_type": "markdown",
      "source": [
        "Предобрабатываем входящие запросы"
      ],
      "metadata": {
        "id": "b0KoMThUaOIj"
      }
    },
    {
      "cell_type": "code",
      "source": [
        "def preprocess_sent(text):\n",
        "\n",
        "    new_letter = '' \n",
        "\n",
        "    for letter in text:\n",
        "        if letter not in string.punctuation:\n",
        "            new_letter += letter\n",
        "            new_letter = new_letter.lower()    \n",
        "    return new_letter  "
      ],
      "metadata": {
        "id": "CrCriw3aDuLS"
      },
      "execution_count": null,
      "outputs": []
    },
    {
      "cell_type": "markdown",
      "source": [
        "Пишем функции для классификации "
      ],
      "metadata": {
        "id": "kDtD_RvSakdM"
      }
    },
    {
      "cell_type": "code",
      "source": [
        "def intent_classifier(sent):\n",
        "    p_sent = preprocess_sent(sent)\n",
        "    tokens_input, token_embs_input, subtokens_input, subtoken_embs_input, sent_max_embs_input, sent_mean_embs_input, bert_pooler_outputs_input = model_input([p_sent])\n",
        "\n",
        "    svc_predict = svc.predict(sent_mean_embs_input)\n",
        "    predict_list = svc_predict.tolist()[0]\n",
        "    return predict_list"
      ],
      "metadata": {
        "id": "fYIXff_KIL7k"
      },
      "execution_count": null,
      "outputs": []
    },
    {
      "cell_type": "code",
      "source": [
        "def about_greeting(ctx, actor):\n",
        "    sent = ctx.last_request\n",
        "    return intent_classifier(sent) == 0\n",
        "\n",
        "def about_goodbye(ctx, actor):\n",
        "    sent = ctx.last_request\n",
        "    return intent_classifier(sent) == 1\n",
        "\n",
        "def about_thanks(ctx, actor):\n",
        "    sent = ctx.last_request\n",
        "    return intent_classifier(sent) == 2\n",
        "\n",
        "def about_consent(ctx, actor):\n",
        "    sent = ctx.last_request\n",
        "    return intent_classifier(sent) == 3\n",
        "\n",
        "def about_disagreement(ctx, actor):\n",
        "    sent = ctx.last_request\n",
        "    return intent_classifier(sent) == 4\n",
        "\n",
        "def about_special_offer(ctx, actor):\n",
        "    sent = ctx.last_request\n",
        "    return intent_classifier(sent) == 5\n",
        "\n",
        "def about_balance_request(ctx, actor):\n",
        "    sent = ctx.last_request\n",
        "    return intent_classifier(sent) == 6\n",
        "\n",
        "def about_balance_top_up(ctx, actor):\n",
        "    sent = ctx.last_request\n",
        "    return intent_classifier(sent) == 7\n",
        "\n",
        "def about_connection_application(ctx, actor):\n",
        "    sent = ctx.last_request\n",
        "    return intent_classifier(sent) == 8\n",
        "\n",
        "def about_connection_problems(ctx, actor):\n",
        "    sent = ctx.last_request\n",
        "    return intent_classifier(sent) == 9\n",
        "\n",
        "def about_whats_tariff(ctx, actor):\n",
        "    sent = ctx.last_request\n",
        "    return intent_classifier(sent) == 10\n",
        "\n",
        "def about_change_tariff(ctx, actor):\n",
        "    sent = ctx.last_request\n",
        "    return intent_classifier(sent) == 11\n",
        "\n",
        "def about_office_addresses(ctx, actor):\n",
        "    sent = ctx.last_request\n",
        "    return intent_classifier(sent) == 12\n",
        "\n",
        "def about_television(ctx, actor):\n",
        "    sent = ctx.last_request\n",
        "    return intent_classifier(sent) == 13\n",
        "\n",
        "def about_calling_wizard(ctx, actor):\n",
        "    sent = ctx.last_request\n",
        "    return intent_classifier(sent) == 14\n",
        "\n",
        "def about_callback(ctx, actor):\n",
        "    sent = ctx.last_request\n",
        "    return intent_classifier(sent) == 15    "
      ],
      "metadata": {
        "id": "PPudJn3_H419"
      },
      "execution_count": null,
      "outputs": []
    },
    {
      "cell_type": "code",
      "source": [
        "intent_classifier('расскажите о тв')"
      ],
      "metadata": {
        "colab": {
          "base_uri": "https://localhost:8080/"
        },
        "id": "HluQ-wcCh4fA",
        "outputId": "d6ce4334-98a9-4d6e-e294-9a1e425efc60"
      },
      "execution_count": null,
      "outputs": [
        {
          "output_type": "execute_result",
          "data": {
            "text/plain": [
              "13"
            ]
          },
          "metadata": {},
          "execution_count": 102
        }
      ]
    },
    {
      "cell_type": "code",
      "source": [
        "script = {\n",
        "    \"greeting_flow\": {\n",
        "        \"start_node\": {\n",
        "            RESPONSE: \"\",\n",
        "            TRANSITIONS: {\"node1\": about_greeting,\n",
        "                         (\"special_offer_flow\", \"node1\"): about_special_offer,\n",
        "                         (\"balance_request_flow\", \"node1\"): about_balance_request,\n",
        "                         (\"balance_top_up_flow\", \"node1\"): about_balance_top_up,\n",
        "                         (\"connection_application_flow\", \"node1\"): about_connection_application, \n",
        "                         (\"connection_problems_flow\", \"node1\"): about_connection_problems,\n",
        "                         (\"whats_tariff_flow\", \"node1\"): about_whats_tariff,\n",
        "                         (\"change_tariff_flow\", \"node1\"): about_change_tariff,\n",
        "                         (\"office_addresses_flow\", \"node1\"): about_office_addresses,\n",
        "                         (\"television_flow\", \"node1\"): about_television,\n",
        "                         (\"calling_wizard_flow\", \"node1\"): about_calling_wizard,\n",
        "                         (\"callback_flow\", \"node1\"): about_callback,\n",
        "                         (\"goodbye_flow\", \"node1\"): about_goodbye},\n",
        "        },\n",
        "        \"node1\": {\n",
        "            RESPONSE: \"Рад Вас видеть! Чем могу помочь?\",\n",
        "            TRANSITIONS: {(\"special_offer_flow\", \"node1\"): about_special_offer,\n",
        "                         (\"balance_request_flow\", \"node1\"): about_balance_request,\n",
        "                         (\"balance_top_up_flow\", \"node1\"): about_balance_top_up,\n",
        "                         (\"connection_application_flow\", \"node1\"): about_connection_application, \n",
        "                         (\"connection_problems_flow\", \"node1\"): about_connection_problems,\n",
        "                         (\"whats_tariff_flow\", \"node1\"): about_whats_tariff,\n",
        "                         (\"change_tariff_flow\", \"node1\"): about_change_tariff,\n",
        "                         (\"office_addresses_flow\", \"node1\"): about_office_addresses,\n",
        "                         (\"television_flow\", \"node1\"): about_television,\n",
        "                         (\"calling_wizard_flow\", \"node1\"): about_calling_wizard,\n",
        "                         (\"callback_flow\", \"node1\"): about_callback,\n",
        "                         (\"goodbye_flow\", \"node1\"): about_goodbye},\n",
        "        },\n",
        "        \"fallback_node\": {\n",
        "            RESPONSE: \"Могу ли ещё чем-то помочь?\",\n",
        "            TRANSITIONS: {(\"special_offer_flow\", \"node1\"): about_special_offer,\n",
        "                         (\"balance_request_flow\", \"node1\"): about_balance_request,\n",
        "                         (\"balance_top_up_flow\", \"node1\"): about_balance_top_up,\n",
        "                         (\"connection_application_flow\", \"node1\"): about_connection_application, \n",
        "                         (\"connection_problems_flow\", \"node1\"): about_connection_problems,\n",
        "                         (\"whats_tariff_flow\", \"node1\"): about_whats_tariff,\n",
        "                         (\"change_tariff_flow\", \"node1\"): about_change_tariff,\n",
        "                         (\"office_addresses_flow\", \"node1\"): about_office_addresses,\n",
        "                         (\"television_flow\", \"node1\"): about_television,\n",
        "                         (\"calling_wizard_flow\", \"node1\"): about_calling_wizard,\n",
        "                         (\"callback_flow\", \"node1\"): about_callback,\n",
        "                         (\"goodbye_flow\", \"node1\"): about_goodbye,\n",
        "                         (\"disagreement_flow\", \"node1\"): about_disagreement,\n",
        "                         (\"consent_flow\", \"node1\"): about_consent}, \n",
        "        }\n",
        "    },\n",
        "    \"goodbye_flow\": {\n",
        "            \"node1\": {\n",
        "            RESPONSE: \"Всего доброго!\",  \n",
        "            TRANSITIONS: {(\"greeting_flow\",\"start_node\"): cnd.true()},\n",
        "          }\n",
        "        },\n",
        "     \"thanks_flow\": {\n",
        "            \"node1\": {\n",
        "            RESPONSE: \"Пожалуйста!\",  \n",
        "            TRANSITIONS: {(\"greeting_flow\",\"start_node\"): cnd.true()},\n",
        "          }\n",
        "        },   \n",
        "     \"consent_flow\": {\n",
        "            \"node1\": {\n",
        "            RESPONSE: \"Чем ещё могу быть полезен?\",  \n",
        "            TRANSITIONS: {(\"special_offer_flow\", \"node1\"): about_special_offer,\n",
        "                         (\"balance_request_flow\", \"node1\"): about_balance_request,\n",
        "                         (\"balance_top_up_flow\", \"node1\"): about_balance_top_up,\n",
        "                         (\"connection_application_flow\", \"node1\"): about_connection_application, \n",
        "                         (\"connection_problems_flow\", \"node1\"): about_connection_problems,\n",
        "                         (\"whats_tariff_flow\", \"node1\"): about_whats_tariff,\n",
        "                         (\"change_tariff_flow\", \"node1\"): about_change_tariff,\n",
        "                         (\"office_addresses_flow\", \"node1\"): about_office_addresses,\n",
        "                         (\"television_flow\", \"node1\"): about_television,\n",
        "                         (\"calling_wizard_flow\", \"node1\"): about_calling_wizard,\n",
        "                         (\"callback_flow\", \"node1\"): about_callback,\n",
        "                         (\"goodbye_flow\", \"node1\"): about_goodbye},\n",
        "          }\n",
        "        },     \n",
        "    \"disagreement_flow\": {\n",
        "        \"node1\": {\n",
        "            RESPONSE: \"Понял Вас. Если что, я тут.\",  \n",
        "            TRANSITIONS: {(\"greeting_flow\",\"start_node\"): cnd.true()},\n",
        "          },\n",
        "          \"node2\": {\n",
        "            RESPONSE: \"Хорошо. Если будут вопросы, обращайтесь!\",  \n",
        "            TRANSITIONS: {(\"special_offer_flow\", \"node1\"): about_special_offer,\n",
        "                         (\"balance_request_flow\", \"node1\"): about_balance_request,\n",
        "                         (\"balance_top_up_flow\", \"node1\"): about_balance_top_up,\n",
        "                         (\"connection_application_flow\", \"node1\"): about_connection_application, \n",
        "                         (\"connection_problems_flow\", \"node1\"): about_connection_problems,\n",
        "                         (\"whats_tariff_flow\", \"node1\"): about_whats_tariff,\n",
        "                         (\"change_tariff_flow\", \"node1\"): about_change_tariff,\n",
        "                         (\"office_addresses_flow\", \"node1\"): about_office_addresses,\n",
        "                         (\"television_flow\", \"node1\"): about_television,\n",
        "                         (\"calling_wizard_flow\", \"node1\"): about_calling_wizard,\n",
        "                         (\"callback_flow\", \"node1\"): about_callback,\n",
        "                         (\"goodbye_flow\", \"node1\"): about_goodbye},\n",
        "          } \n",
        "        },\n",
        "    \"special_offer_flow\": {\n",
        "            \"node1\": {\n",
        "            RESPONSE: \"Все акции на сегодня:\\n1.Приведи друга: получи скидку 50% для себя и для друга.\\n2.Лестница скидок: скидка до 10% при оплате через мобильное приложение.\\n3.Кешбэк: возвращайте до 20% от ежемесячных платежей.\\n\\nТакже для пенсионеров, инвалидов и ветеранов действуют программы лояльности.\\n\\nО чем Вам рассказать подробнее?\",  \n",
        "            TRANSITIONS: {\"node2\": cnd.regexp(\".*друг.*|.*привед.*|.*перв.*|.*1.*|.*один.*\"),\n",
        "                          \"node3\": cnd.regexp(\".*лестн.*|.*мобильн.*|.*прилож.*|.*2.*|.*втор.*|.*два.*\"),\n",
        "                          \"node4\": cnd.regexp(\".*кеш.*|.*кэш.*|.*3.*|.*трет.*|.*три.*\"),\n",
        "                          \"node5\": cnd.regexp(\".*льгот.*|.*пенс.*|.*инвал.*|.*ветер.*|.*програм.*|.*лояльн.*\")},\n",
        "          },  \n",
        "          \"node2\": {\n",
        "            RESPONSE: \"В акции «Приведи друга» могут принимать участие только абоненты, подключенные к услугам провайдера.\\nУчастник акции может получить скидку 50 % на стоимость тарифа за услугу Интернет.\\nДля участия в акции необходимо порекомендовать провайдера своим соседям, друзьям, коллегам,\\nзаполнить форму в личном кабинете, во вкладке «Акция Приведи друга»\\nили при подключении попросить друга сообщить Ваш номер лицевого счета оператору.\\nУчастие в акции позволяет получить скидку не только Вам, но и Вашему другу.\\nАкцией можно воспользоваться неограниченное количество раз.\\n\\nПодробнее узнать об условиях проведения акции можно здесь.\",  \n",
        "            TRANSITIONS: {(\"special_offer_flow\", \"node1\"): about_special_offer,\n",
        "                         (\"balance_request_flow\", \"node1\"): about_balance_request,\n",
        "                         (\"balance_top_up_flow\", \"node1\"): about_balance_top_up,\n",
        "                         (\"connection_application_flow\", \"node1\"): about_connection_application, \n",
        "                         (\"connection_problems_flow\", \"node1\"): about_connection_problems,\n",
        "                         (\"whats_tariff_flow\", \"node1\"): about_whats_tariff,\n",
        "                         (\"change_tariff_flow\", \"node1\"): about_change_tariff,\n",
        "                         (\"office_addresses_flow\", \"node1\"): about_office_addresses,\n",
        "                         (\"television_flow\", \"node1\"): about_television,\n",
        "                         (\"calling_wizard_flow\", \"node1\"): about_calling_wizard,\n",
        "                         (\"callback_flow\", \"node1\"): about_callback,\n",
        "                         (\"goodbye_flow\", \"node1\"): about_goodbye},\n",
        "          },\n",
        "          \"node3\": {\n",
        "            RESPONSE: \"Все клиенты, пользующиеся услугами компании не менее 6 месяцев, а также производящие оплату рекомендованных платежей через мобильное приложение провайдера, автоматически становятся участниками акции и получают скидку в размере 3% на ежемесячную абонентскую плату по Вашему тарифному плану.\\nСкидка 3%, 5%, 8% и 10% назначается автоматически в дату внесения очередного рекомендованного платежа, по прошествии 3, 6, 9, 12 месяцев отсутствия финансовой блокировки счета.\\n\\nПодробнее узнать об условиях проведения акции можно здесь.\",  \n",
        "            TRANSITIONS: {(\"special_offer_flow\", \"node1\"): about_special_offer,\n",
        "                         (\"balance_request_flow\", \"node1\"): about_balance_request,\n",
        "                         (\"balance_top_up_flow\", \"node1\"): about_balance_top_up,\n",
        "                         (\"connection_application_flow\", \"node1\"): about_connection_application, \n",
        "                         (\"connection_problems_flow\", \"node1\"): about_connection_problems,\n",
        "                         (\"whats_tariff_flow\", \"node1\"): about_whats_tariff,\n",
        "                         (\"change_tariff_flow\", \"node1\"): about_change_tariff,\n",
        "                         (\"office_addresses_flow\", \"node1\"): about_office_addresses,\n",
        "                         (\"television_flow\", \"node1\"): about_television,\n",
        "                         (\"calling_wizard_flow\", \"node1\"): about_calling_wizard,\n",
        "                         (\"callback_flow\", \"node1\"): about_callback,\n",
        "                         (\"goodbye_flow\", \"node1\"): about_goodbye},\n",
        "            },\n",
        "          \"node4\": {\n",
        "            RESPONSE: \"Для каждого абонента устанавливается переменная величина – процент кешбэка, которая изменяется по описанным ниже правилам.\\nНачальное значение процента кешбэка – 2%. Максимальное значение процента кешбэка – 20%.\\nПроцент кешбэка меняется в зависимости от количества Ваших расчётных периодов.\\n\\nПодробнее узнать об условиях проведения акции можно здесь.\",  \n",
        "            TRANSITIONS: {(\"special_offer_flow\", \"node1\"): about_special_offer,\n",
        "                         (\"balance_request_flow\", \"node1\"): about_balance_request,\n",
        "                         (\"balance_top_up_flow\", \"node1\"): about_balance_top_up,\n",
        "                         (\"connection_application_flow\", \"node1\"): about_connection_application, \n",
        "                         (\"connection_problems_flow\", \"node1\"): about_connection_problems,\n",
        "                         (\"whats_tariff_flow\", \"node1\"): about_whats_tariff,\n",
        "                         (\"change_tariff_flow\", \"node1\"): about_change_tariff,\n",
        "                         (\"office_addresses_flow\", \"node1\"): about_office_addresses,\n",
        "                         (\"television_flow\", \"node1\"): about_television,\n",
        "                         (\"calling_wizard_flow\", \"node1\"): about_calling_wizard,\n",
        "                         (\"callback_flow\", \"node1\"): about_callback,\n",
        "                         (\"goodbye_flow\", \"node1\"): about_goodbye},\n",
        "            }, \n",
        "          \"node5\": {\n",
        "            RESPONSE: \"Пенсионеры, инвалиды и ветераны труда могут рассчитывать на существенную скидку при использовании аналогового или цифрового телевидения.\\nКомпенсация может достигать 50% от суммы за услуги. Она зависит от подключенных тарифных планов и других факторов.\\n\\nТочный размер скидки можно узнать у специалиста call-центра или в офисе обслуживания.\",  \n",
        "            TRANSITIONS: {(\"special_offer_flow\", \"node1\"): about_special_offer,\n",
        "                         (\"balance_request_flow\", \"node1\"): about_balance_request,\n",
        "                         (\"balance_top_up_flow\", \"node1\"): about_balance_top_up,\n",
        "                         (\"connection_application_flow\", \"node1\"): about_connection_application, \n",
        "                         (\"connection_problems_flow\", \"node1\"): about_connection_problems,\n",
        "                         (\"whats_tariff_flow\", \"node1\"): about_whats_tariff,\n",
        "                         (\"change_tariff_flow\", \"node1\"): about_change_tariff,\n",
        "                         (\"office_addresses_flow\", \"node1\"): about_office_addresses,\n",
        "                         (\"television_flow\", \"node1\"): about_television,\n",
        "                         (\"calling_wizard_flow\", \"node1\"): about_calling_wizard,\n",
        "                         (\"callback_flow\", \"node1\"): about_callback,\n",
        "                         (\"goodbye_flow\", \"node1\"): about_goodbye},\n",
        "            }  \n",
        "        }, \n",
        "    \"balance_request_flow\": {\n",
        "            \"node1\": {\n",
        "            RESPONSE: \"Для проверки баланса необходмо авторизоваться.\\nВведите, пожалуйста, номер Вашего договора или полный адрес, а также Ф.И.О. владельца договора.\",  \n",
        "            TRANSITIONS: {\"node2\": cnd.regexp(\".*\\d+.*\")},\n",
        "          },\n",
        "          \"node2\": {\n",
        "            RESPONSE: \"Петров Семён Иванович\\nДоговор №840030\\nМосква, Пушкина, 18\\nБаланс – 120 руб.\\n\\nХотите пополнить баланс?\",  \n",
        "            TRANSITIONS: {(\"disagreement_flow\", \"node2\"): about_disagreement,\n",
        "                         \"node3\": about_consent},\n",
        "          },\n",
        "          \"node3\": {\n",
        "            RESPONSE: \"Выберите способ оплаты:\\n1.Онлайн-оплата банковской картой.\\n2.Онлайн-перевод через приложение банка.\\n3.Оплата через QIWI Wallet.\\n4.Оплата через терминал в офисе обслуживания.\\n5.Оплата по квитанции в банке.\",  \n",
        "            TRANSITIONS: {(\"greeting_flow\",\"start_node\"): cnd.true()},  \n",
        "        } \n",
        "    },\n",
        "    \"balance_top_up_flow\": {\n",
        "            \"node1\": {\n",
        "            RESPONSE: \"Для пополнения баланса необходмо авторизоваться.\\nВведите, пожалуйста, номер Вашего договора или полный адрес, а также Ф.И.О. владельца договора.\",  \n",
        "            TRANSITIONS: {\"node2\": cnd.regexp(\".*\\d+.*\")},\n",
        "          },\n",
        "          \"node2\": {\n",
        "            RESPONSE: \"Петров Семён Иванович\\nДоговор №840030\\nМосква, Пушкина, 18\\nБаланс – 0 руб.\\n\\nВыберите способ оплаты:\\n1.Онлайн-оплата банковской картой.\\n2.Онлайн-перевод через приложение банка.\\n3.Оплата через QIWI Wallet.\\n4.Оплата через терминал в офисе обслуживания.\\n5.Оплата по квитанции в банке.\",  \n",
        "            TRANSITIONS: {(\"greeting_flow\",\"start_node\"): cnd.true()},\n",
        "          }\n",
        "        },  \n",
        "    \"connection_application_flow\": {\n",
        "            \"node1\": {\n",
        "            RESPONSE: \"Что будем подключать?\\n1.Интернет.\\n2.Интернет + Кабельное ТВ.\\n3.Кабельное ТВ.\\n4.IP-телефония\\n5.Интернет + Кабельное ТВ + IP-телефония\",  \n",
        "            TRANSITIONS: {\"node6\": cnd.regexp(\".*Интерн.*каб.*телеф.*|.*интерн.*каб.*телеф.*|.*интерн.*тв.*телеф.*|.*5.*|.*пят.*|.*интерн.*телев.*телеф.*\"),\n",
        "                          \"node5\": cnd.regexp(\".*Интерн.*каб.*|.*интерн.*каб.*|.*интерн.*ТВ.*|.*2.*|.*втор.*|.*интерн.*телев.*|.*Интерн.*тв.*|.*Интерн.*телев.*\"),\n",
        "                          \"node4\": cnd.regexp(\".*каб.*|.*телев.*|.*3.*|.*трет.*|.*три.*|.*Каб.*|.*ТВ.*\"),\n",
        "                          \"node3\": cnd.regexp(\".*телеф.*|.*IP*|.*Телеф.*|.*4.*|.*четв.*\"),\n",
        "                          \"node2\": cnd.regexp(\".*интер.*|.*Интер.*|.*1*|.*перв.*|.*один.*\")},\n",
        "          },\n",
        "          \"node2\": {\n",
        "            RESPONSE: \"Подключаем только Интернет.\\nНапишите адрес, куда Вы планируете проводить подключение, и Ваш контактный номер.\",  \n",
        "            TRANSITIONS: {\"node7\": cnd.true()},\n",
        "          },\n",
        "          \"node3\": {\n",
        "            RESPONSE: \"Подключаем только IP-Телефонию.\\nНапишите адрес, куда Вы планируете проводить подключение, и Ваш контактный номер.\",  \n",
        "            TRANSITIONS: {\"node7\": cnd.true()},\n",
        "          },\n",
        "          \"node4\": {\n",
        "            RESPONSE: \"Подключаем только кабельное телевидение.\\nНапишите адрес, куда Вы планируете проводить подключение, и Ваш контактный номер.\",  \n",
        "            TRANSITIONS: {\"node7\": cnd.true()},\n",
        "          },\n",
        "          \"node5\": {\n",
        "            RESPONSE: \"Подключаем Комбо-2: Интернет + Кабельное ТВ.\\nНапишите адрес, куда Вы планируете проводить подключение, и Ваш контактный номер.\",  \n",
        "            TRANSITIONS: {\"node7\": cnd.true()},\n",
        "          },\n",
        "          \"node6\": {\n",
        "            RESPONSE: \"Подключаем Комбо-3: Интернет + Кабельное ТВ + IP-телефония.\\nНапишите адрес, куда Вы планируете проводить подключение, и Ваш контактный номер.\",  \n",
        "            TRANSITIONS: {\"node7\": cnd.true()},\n",
        "          },\n",
        "          \"node7\": {\n",
        "            RESPONSE: \"Заявка принята. С Вами свяжется менеджер для уточнения и подтверждения информации о подключении новой услуги.\",  \n",
        "            TRANSITIONS: {(\"special_offer_flow\", \"node1\"): about_special_offer,\n",
        "                         (\"balance_request_flow\", \"node1\"): about_balance_request,\n",
        "                         (\"balance_top_up_flow\", \"node1\"): about_balance_top_up,\n",
        "                         (\"connection_application_flow\", \"node1\"): about_connection_application, \n",
        "                         (\"connection_problems_flow\", \"node1\"): about_connection_problems,\n",
        "                         (\"whats_tariff_flow\", \"node1\"): about_whats_tariff,\n",
        "                         (\"change_tariff_flow\", \"node1\"): about_change_tariff,\n",
        "                         (\"office_addresses_flow\", \"node1\"): about_office_addresses,\n",
        "                         (\"television_flow\", \"node1\"): about_television,\n",
        "                         (\"calling_wizard_flow\", \"node1\"): about_calling_wizard,\n",
        "                         (\"callback_flow\", \"node1\"): about_callback,\n",
        "                         (\"goodbye_flow\", \"node1\"): about_goodbye},\n",
        "          }\n",
        "        },\n",
        "    \"connection_problems_flow\": {\n",
        "            \"node1\": {\n",
        "            RESPONSE: \"Возникли проблемы с Интернетом?\\nЗдесь Вы можете самостоятельно ознакомиться с инструкциями по настройке интернет-соединения\\nили попросить о помощи специалиста.\",  \n",
        "            TRANSITIONS: {(\"special_offer_flow\", \"node1\"): about_special_offer,\n",
        "                         (\"balance_request_flow\", \"node1\"): about_balance_request,\n",
        "                         (\"balance_top_up_flow\", \"node1\"): about_balance_top_up,\n",
        "                         (\"connection_application_flow\", \"node1\"): about_connection_application, \n",
        "                         (\"connection_problems_flow\", \"node1\"): about_connection_problems,\n",
        "                         (\"whats_tariff_flow\", \"node1\"): about_whats_tariff,\n",
        "                         (\"change_tariff_flow\", \"node1\"): about_change_tariff,\n",
        "                         (\"office_addresses_flow\", \"node1\"): about_office_addresses,\n",
        "                         (\"television_flow\", \"node1\"): about_television,\n",
        "                         (\"calling_wizard_flow\", \"node1\"): about_calling_wizard,\n",
        "                         (\"callback_flow\", \"node1\"): about_callback,\n",
        "                         (\"goodbye_flow\", \"node1\"): about_goodbye},\n",
        "          }\n",
        "        },            \n",
        "    \"whats_tariff_flow\": {\n",
        "            \"node1\": {\n",
        "            RESPONSE: \"Для уточнения информации о тарифе необходимо авторизоваться.\\nВведите, пожалуйста, номер Вашего договора или полный адрес, а также Ф.И.О. владельца договора.\",  \n",
        "            TRANSITIONS: {\"node2\": cnd.true()},\n",
        "          },\n",
        "          \"node2\": {\n",
        "            RESPONSE: \"Петров Семён Иванович\\nДоговор №840030\\nМосква, Пушкина, 18\\nБаланс – 0 руб.\\n\\nВаш тариф – Мега 250: 250 Мбит/с\\nСкорость скачивания до 31.25 Мбайт/с\\nСтоимость услуги – 500 руб. в месяц.\",  \n",
        "            TRANSITIONS: {(\"special_offer_flow\", \"node1\"): about_special_offer,\n",
        "                         (\"balance_request_flow\", \"node1\"): about_balance_request,\n",
        "                         (\"balance_top_up_flow\", \"node1\"): about_balance_top_up,\n",
        "                         (\"connection_application_flow\", \"node1\"): about_connection_application, \n",
        "                         (\"connection_problems_flow\", \"node1\"): about_connection_problems,\n",
        "                         (\"change_tariff_flow\", \"node1\"): about_change_tariff,\n",
        "                         (\"office_addresses_flow\", \"node1\"): about_office_addresses,\n",
        "                         (\"television_flow\", \"node1\"): about_television,\n",
        "                         (\"calling_wizard_flow\", \"node1\"): about_calling_wizard,\n",
        "                         (\"callback_flow\", \"node1\"): about_callback,\n",
        "                         (\"goodbye_flow\", \"node1\"): about_goodbye},\n",
        "          }\n",
        "        },\n",
        "    \"change_tariff_flow\": {\n",
        "            \"node1\": {\n",
        "            RESPONSE: \"Действующие тарифные планы:\\n1.Мега 100: 100 Мбит/с\\nСкорость скачивания до 12.5 Мбайт/с\\nСтоимость услуги – 400 руб. в месяц.\\n\\n2.Мега 250: 250 Мбит/с\\nСкорость скачивания до 31.25 Мбайт/с\\nСтоимость услуги – 500 руб. в месяц.\\n\\n3.Мега 500: 500 Мбит/с\\nСкорость скачивания до 62.5 Мбайт/с\\nСтоимость услуги – 700 руб. в месяц.\",  \n",
        "            TRANSITIONS: {(\"special_offer_flow\", \"node1\"): about_special_offer,\n",
        "                         (\"balance_request_flow\", \"node1\"): about_balance_request,\n",
        "                         (\"balance_top_up_flow\", \"node1\"): about_balance_top_up,\n",
        "                         (\"connection_application_flow\", \"node1\"): about_connection_application, \n",
        "                         (\"connection_problems_flow\", \"node1\"): about_connection_problems,\n",
        "                         (\"whats_tariff_flow\", \"node1\"): about_whats_tariff,\n",
        "                         (\"change_tariff_flow\", \"node1\"): about_change_tariff,\n",
        "                         (\"office_addresses_flow\", \"node1\"): about_office_addresses,\n",
        "                         (\"television_flow\", \"node1\"): about_television,\n",
        "                         (\"calling_wizard_flow\", \"node1\"): about_calling_wizard,\n",
        "                         (\"callback_flow\", \"node1\"): about_callback,\n",
        "                         (\"goodbye_flow\", \"node1\"): about_goodbye,\n",
        "                         (\"thanks_flow\", \"node1\"): about_thanks},\n",
        "          }\n",
        "        },   \n",
        "    \"office_addresses_flow\": {\n",
        "            \"node1\": {\n",
        "            RESPONSE: \"Адреса наших офисов:\\nМосква, Ленина 28,6\\nМосква, Карла Маркса,2\\nМосква, Староалексеевская,5\\nЕдиный номер обслуживания: +7(495)111-0000\",  \n",
        "            TRANSITIONS: {(\"special_offer_flow\", \"node1\"): about_special_offer,\n",
        "                         (\"balance_request_flow\", \"node1\"): about_balance_request,\n",
        "                         (\"balance_top_up_flow\", \"node1\"): about_balance_top_up,\n",
        "                         (\"connection_application_flow\", \"node1\"): about_connection_application, \n",
        "                         (\"connection_problems_flow\", \"node1\"): about_connection_problems,\n",
        "                         (\"whats_tariff_flow\", \"node1\"): about_whats_tariff,\n",
        "                         (\"change_tariff_flow\", \"node1\"): about_change_tariff,\n",
        "                         (\"television_flow\", \"node1\"): about_television,\n",
        "                         (\"calling_wizard_flow\", \"node1\"): about_calling_wizard,\n",
        "                         (\"callback_flow\", \"node1\"): about_callback,\n",
        "                         (\"goodbye_flow\", \"node1\"): about_goodbye},\n",
        "          }\n",
        "        }, \n",
        "    \"television_flow\": {\n",
        "        \"node1\": {\n",
        "            RESPONSE: \"Доступны следующие пакеты ТВ\",  \n",
        "            TRANSITIONS: {(\"special_offer_flow\", \"node1\"): about_special_offer,\n",
        "                         (\"balance_request_flow\", \"node1\"): about_balance_request,\n",
        "                         (\"balance_top_up_flow\", \"node1\"): about_balance_top_up,\n",
        "                         (\"connection_application_flow\", \"node1\"): about_connection_application, \n",
        "                         (\"connection_problems_flow\", \"node1\"): about_connection_problems,\n",
        "                         (\"whats_tariff_flow\", \"node1\"): about_whats_tariff,\n",
        "                         (\"change_tariff_flow\", \"node1\"): about_change_tariff,\n",
        "                         (\"office_addresses_flow\", \"node1\"): about_office_addresses,\n",
        "                         (\"calling_wizard_flow\", \"node1\"): about_calling_wizard,\n",
        "                         (\"callback_flow\", \"node1\"): about_callback,\n",
        "                         (\"goodbye_flow\", \"node1\"): about_goodbye},\n",
        "          }\n",
        "        },         \n",
        "    \"calling_wizard_flow\": {\n",
        "        \"node1\": {\n",
        "            RESPONSE: \"Понял Вас.\",  \n",
        "            TRANSITIONS: {(\"greeting_flow\",\"start_node\"): cnd.true()},\n",
        "          },\n",
        "          \"node2\": {\n",
        "            RESPONSE: \"Понял Вас.\",  \n",
        "            TRANSITIONS: {(\"greeting_flow\",\"start_node\"): cnd.true()},\n",
        "          }\n",
        "        },\n",
        "    \"callback_flow\": {\n",
        "            \"node1\": {\n",
        "            RESPONSE: \"Оставьте Ваш контактный номер телефона, и оператор позвонит Вам в ближайшее время.\",  \n",
        "            TRANSITIONS: {(\"greeting_flow\",\"start_node\"): cnd.true()},\n",
        "          },\n",
        "          \"node2\": {\n",
        "            RESPONSE: \"Понял Вас.\",  \n",
        "            TRANSITIONS: {(\"greeting_flow\",\"start_node\"): cnd.true()},\n",
        "          }\n",
        "        }                  \n",
        "}"
      ],
      "metadata": {
        "id": "FtcvVfBSvZRJ"
      },
      "execution_count": null,
      "outputs": []
    },
    {
      "cell_type": "code",
      "source": [
        "actor = Actor(script, start_label=(\"greeting_flow\", \"start_node\"), fallback_label=(\"greeting_flow\", \"fallback_node\"))"
      ],
      "metadata": {
        "id": "2VGikQbbPv9S"
      },
      "execution_count": null,
      "outputs": []
    },
    {
      "cell_type": "code",
      "source": [
        "def turn_handler(in_request: str, ctx: Union[Context, dict], actor: Actor):\n",
        "    ctx = Context.cast(ctx)\n",
        "    ctx.add_request(in_request)\n",
        "    ctx = actor(ctx)\n",
        "    out_response = ctx.last_response\n",
        "    return out_response, ctx"
      ],
      "metadata": {
        "id": "HMiG8Ksrww7R"
      },
      "execution_count": null,
      "outputs": []
    },
    {
      "cell_type": "code",
      "source": [
        "ctx = {}\n",
        "print('Здравствуйте, я Ваш виртуальный ассистент. Чем могу помочь?')\n",
        "while True:\n",
        "    in_request = input(\"Пользователь:\")\n",
        "    out_response, ctx = turn_handler(in_request, ctx, actor)\n",
        "    print(out_response)"
      ],
      "metadata": {
        "id": "dG-TzTjcpTx9"
      },
      "execution_count": null,
      "outputs": []
    }
  ]
}